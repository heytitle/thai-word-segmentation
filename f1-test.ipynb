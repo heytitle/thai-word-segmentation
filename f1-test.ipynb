{
 "cells": [
  {
   "cell_type": "code",
   "execution_count": 7,
   "metadata": {},
   "outputs": [],
   "source": [
    "import numpy as np\n",
    "from sklearn.metrics import f1_score, precision_score,  recall_score"
   ]
  },
  {
   "cell_type": "code",
   "execution_count": 43,
   "metadata": {},
   "outputs": [
    {
     "name": "stdout",
     "output_type": "stream",
     "text": [
      "9 [[1 1 0 0 1 1 0 1 1]\n",
      " [1 1 1 0 1 1 1 1 1]]\n",
      "17 [[1 1 1 1 1 1 1 1 1 0 1 1 1 0 1 0 0]\n",
      " [1 1 1 0 1 1 1 1 1 1 1 0 1 1 1 0 1]]\n",
      "19 [[0 1 1 0 0 1 1 1 1 1 0 0 1 1 1 1 1 1 0]\n",
      " [1 1 1 1 0 0 0 1 1 0 1 1 1 1 1 1 1 0 0]]\n",
      "5 [[1 1 1 1 1]\n",
      " [1 1 1 1 1]]\n",
      "8 [[1 1 1 0 0 0 0 1]\n",
      " [0 0 1 0 1 1 1 1]]\n",
      "19 [[1 1 1 1 1 1 1 0 1 1 1 1 0 1 1 1 1 1 1]\n",
      " [1 1 1 0 1 1 0 0 1 1 1 1 1 1 1 0 1 1 1]]\n",
      "7 [[1 1 0 0 0 0 1]\n",
      " [1 1 1 0 1 0 0]]\n",
      "12 [[1 1 1 0 1 1 1 1 0 1 1 1]\n",
      " [0 1 0 1 1 1 1 0 1 1 1 1]]\n",
      "10 [[1 1 1 1 1 1 0 0 1 1]\n",
      " [1 1 1 0 1 1 1 1 1 1]]\n",
      "12 [[1 1 0 1 0 0 1 1 0 1 1 0]\n",
      " [1 1 1 1 0 1 0 1 1 1 0 1]]\n"
     ]
    }
   ],
   "source": [
    "no_samples = 10\n",
    "lengths = np.random.choice(range(5, 20), no_samples)\n",
    "\n",
    "y_true = []\n",
    "y_pred = []\n",
    "\n",
    "for i in range(no_samples):\n",
    "    l = lengths[i]\n",
    "    \n",
    "    ss = (np.random.uniform(0, 1, (2, l))  > 0.3).astype(int)\n",
    "    print(l, ss)\n",
    "    yt, yp = ss[0, :], ss[1, :]\n",
    "    y_true.append(yt.tolist())\n",
    "    y_pred.append(yp.tolist())"
   ]
  },
  {
   "cell_type": "code",
   "execution_count": 49,
   "metadata": {},
   "outputs": [
    {
     "data": {
      "text/plain": [
       "118"
      ]
     },
     "execution_count": 49,
     "metadata": {},
     "output_type": "execute_result"
    }
   ],
   "source": [
    "np.sum(lengths)"
   ]
  },
  {
   "cell_type": "code",
   "execution_count": 47,
   "metadata": {},
   "outputs": [],
   "source": [
    "import itertools\n",
    "\n",
    "merged = list(itertools.chain(*y_true))"
   ]
  },
  {
   "cell_type": "code",
   "execution_count": 48,
   "metadata": {},
   "outputs": [
    {
     "data": {
      "text/plain": [
       "118"
      ]
     },
     "execution_count": 48,
     "metadata": {},
     "output_type": "execute_result"
    }
   ],
   "source": [
    "len(merged)"
   ]
  },
  {
   "cell_type": "code",
   "execution_count": 42,
   "metadata": {},
   "outputs": [
    {
     "data": {
      "text/plain": [
       "[1, 0, 0, 1, 1]"
      ]
     },
     "execution_count": 42,
     "metadata": {},
     "output_type": "execute_result"
    }
   ],
   "source": [
    "y_true[0]"
   ]
  },
  {
   "cell_type": "code",
   "execution_count": 53,
   "metadata": {},
   "outputs": [
    {
     "name": "stdout",
     "output_type": "stream",
     "text": [
      "Sample 0: f1=0.8571, precision=0.7500, recall=1.0000\n",
      "Sample 1: f1=0.8148, precision=0.7857, recall=0.8462\n",
      "Sample 2: f1=0.6923, precision=0.6923, recall=0.6923\n",
      "Sample 3: f1=1.0000, precision=1.0000, recall=1.0000\n",
      "Sample 4: f1=0.4444, precision=0.4000, recall=0.5000\n",
      "Sample 5: f1=0.8750, precision=0.9333, recall=0.8235\n",
      "Sample 6: f1=0.5714, precision=0.5000, recall=0.6667\n",
      "Sample 7: f1=0.7368, precision=0.7778, recall=0.7000\n",
      "Sample 8: f1=0.8235, precision=0.7778, recall=0.8750\n",
      "Sample 9: f1=0.6250, precision=0.5556, recall=0.7143\n",
      "avg f1=0.7441, precision=0.7172, recall=0.7818\n",
      "flatten f1=0.7684, precision=0.7473, recall=0.7907\n"
     ]
    }
   ],
   "source": [
    "f1s = []\n",
    "p1s = []\n",
    "r1s = []\n",
    "\n",
    "for i in range(len(y_true)):\n",
    "    pair = (y_true[i], y_pred[i])\n",
    "    \n",
    "    f = f1_score(*pair)\n",
    "    f1s.append(f)\n",
    "    \n",
    "    p = precision_score(*pair)\n",
    "    p1s.append(p)\n",
    "    \n",
    "    r = recall_score(*pair)\n",
    "    r1s.append(r)\n",
    "    print('Sample %d: f1=%.4f, precision=%.4f, recall=%.4f' % (i, f, p, r))\n",
    "print(\"avg f1=%.4f, precision=%.4f, recall=%.4f\" % (np.mean(f1s), np.mean(p1s), np.mean(r1s)))\n",
    "\n",
    "fy_true = list(itertools.chain(*y_true))\n",
    "fy_pred = list(itertools.chain(*y_pred))\n",
    "print('flatten f1=%.4f, precision=%.4f, recall=%.4f' %\n",
    "      (f1_score(fy_true, fy_pred), precision_score(fy_true, fy_pred), recall_score(fy_true, fy_pred)))"
   ]
  },
  {
   "cell_type": "code",
   "execution_count": null,
   "metadata": {},
   "outputs": [],
   "source": []
  }
 ],
 "metadata": {
  "kernelspec": {
   "display_name": "Python-3-Main",
   "language": "python",
   "name": "python-3-main"
  },
  "language_info": {
   "codemirror_mode": {
    "name": "ipython",
    "version": 3
   },
   "file_extension": ".py",
   "mimetype": "text/x-python",
   "name": "python",
   "nbconvert_exporter": "python",
   "pygments_lexer": "ipython3",
   "version": "3.6.3"
  },
  "toc": {
   "nav_menu": {},
   "number_sections": true,
   "sideBar": true,
   "skip_h1_title": false,
   "toc_cell": false,
   "toc_position": {},
   "toc_section_display": "block",
   "toc_window_display": false
  }
 },
 "nbformat": 4,
 "nbformat_minor": 2
}
